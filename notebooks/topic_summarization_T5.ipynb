{
 "cells": [
  {
   "cell_type": "code",
   "execution_count": 1,
   "metadata": {},
   "outputs": [],
   "source": [
    "import pandas as pd\n",
    "import numpy as np\n",
    "from transformers import T5Tokenizer, T5ForConditionalGeneration"
   ]
  },
  {
   "cell_type": "code",
   "execution_count": 2,
   "metadata": {},
   "outputs": [],
   "source": [
    "comment_section = ['you just know someone has made that joke with her',\n",
    " 'was literally discussing this with my wife yesterday i am british she is not for some reason she thought i would know the answer to whether that would be a thing or not i did not so i guess it s a pretty common shower thought tbh',\n",
    " 'pardon',\n",
    " 'this chap s missus thought he might have a clue whether her maj will get a telegram from herself courtesy of herself when she tops a ton what with him being an englishman that help squire',\n",
    " 'ha ha thanks for clarifying my apparently rambling train of thought',\n",
    " 'my pleasure mate have a good un',\n",
    " 'ah yes old bean much indebted',\n",
    " 'i read that in a british accent well done cheers',\n",
    " 'ikr i m british and i still read that in a noticeably british accent',\n",
    " 'i read it in the most aussie accent ever',\n",
    " 'aussie needs more oi and cunt',\n",
    " 'that is the most british sentence i ve ever seen',\n",
    " 'hmmm yes well played my good man',\n",
    " 'i am chuffed by this whole exchange',\n",
    " 'why does this sound like captain jack sparrow',\n",
    " 'i ve pirated his accent',\n",
    " 'when she tops a ton she ll have to start packing it on then i m not sure she s even ten stone',\n",
    " 'english reddit intensifies',\n",
    " 'honestly every brit should send the queen a card to her when she turns 100s she s nice enough to do it for everyone else',\n",
    " 'imagine the other people she has sent cards to congratulating her back that would be perfect',\n",
    " 'do we have the same wife im not british but for some reason my wife always asks me the most random shit as if i just have the answer waiting in my pocket u rexfordays',\n",
    " 'contact the office of your member of parliament in canada if you turn 90 you can get a signed portrait of the prime minister trudeau in england boris johnson and when you turn 100 your mp can get you signed photo of queen elizabeth',\n",
    " 'well i m over halfway to 90 now so will have to start getting that sorted',\n",
    " 'we should all write letters to ourselves like that at some point stick it to our mirrors or something',\n",
    " 'my gf leaves a note on the inside of our front door so i see it every morning when i leave for work since she s still asleep at that time it s supposed to be a reminder to take the trash with me but it just says trash so it s really a reminder of me as a man',\n",
    " 'this made me laugh if i had awards i d give one i dont so i m just gonna start doing this for my boyfriend',\n",
    " 'just a heads up to anyone who doesn t know which included me recently reddit will give you a free award to give out every so often can be redeemed when you click on the golden coin where they want you to buy their shit',\n",
    " 'that s awesome thanks for the info so excited to spread the reddit love',\n",
    " 'i m giving you mine as a thank you for telling us this']"
   ]
  },
  {
   "cell_type": "code",
   "execution_count": 3,
   "metadata": {},
   "outputs": [],
   "source": [
    "text = \".\".join(comment_section)"
   ]
  },
  {
   "cell_type": "code",
   "execution_count": 17,
   "metadata": {},
   "outputs": [
    {
     "data": {
      "text/plain": [
       "'you just know someone has made that joke with her.was literally discussing this with my wife yesterday i am british she is not for some reason she thought i would know the answer to whether that would be a thing or not i did not so i guess it s a pretty common shower thought tbh.pardon.this chap s missus thought he might have a clue whether her maj will get a telegram from herself courtesy of herself when she tops a ton what with him being an englishman that help squire.ha ha thanks for clarifying my apparently rambling train of thought.my pleasure mate have a good un.ah yes old bean much indebted.i read that in a british accent well done cheers.ikr i m british and i still read that in a noticeably british accent.i read it in the most aussie accent ever.aussie needs more oi and cunt.that is the most british sentence i ve ever seen.hmmm yes well played my good man.i am chuffed by this whole exchange.why does this sound like captain jack sparrow.i ve pirated his accent.when she tops a ton she ll have to start packing it on then i m not sure she s even ten stone.english reddit intensifies.honestly every brit should send the queen a card to her when she turns 100s she s nice enough to do it for everyone else.imagine the other people she has sent cards to congratulating her back that would be perfect.do we have the same wife im not british but for some reason my wife always asks me the most random shit as if i just have the answer waiting in my pocket u rexfordays.contact the office of your member of parliament in canada if you turn 90 you can get a signed portrait of the prime minister trudeau in england boris johnson and when you turn 100 your mp can get you signed photo of queen elizabeth.well i m over halfway to 90 now so will have to start getting that sorted.we should all write letters to ourselves like that at some point stick it to our mirrors or something.my gf leaves a note on the inside of our front door so i see it every morning when i leave for work since she s still asleep at that time it s supposed to be a reminder to take the trash with me but it just says trash so it s really a reminder of me as a man.this made me laugh if i had awards i d give one i dont so i m just gonna start doing this for my boyfriend.just a heads up to anyone who doesn t know which included me recently reddit will give you a free award to give out every so often can be redeemed when you click on the golden coin where they want you to buy their shit.that s awesome thanks for the info so excited to spread the reddit love.i m giving you mine as a thank you for telling us this'"
      ]
     },
     "execution_count": 17,
     "metadata": {},
     "output_type": "execute_result"
    }
   ],
   "source": []
  },
  {
   "cell_type": "code",
   "execution_count": 4,
   "metadata": {},
   "outputs": [],
   "source": [
    "Preprocessed_text = \"summarize: \" + text"
   ]
  },
  {
   "cell_type": "code",
   "execution_count": 5,
   "metadata": {},
   "outputs": [],
   "source": [
    "import sqlite3"
   ]
  },
  {
   "cell_type": "code",
   "execution_count": 6,
   "metadata": {},
   "outputs": [],
   "source": [
    "db = sqlite3.connect('database.sqlite')"
   ]
  },
  {
   "cell_type": "code",
   "execution_count": 7,
   "metadata": {},
   "outputs": [],
   "source": [
    "df = pd.read_sql_query(\"SELECT * FROM May2015 LIMIT 50000\", db)\n",
    "df['index'] = df.index"
   ]
  },
  {
   "cell_type": "code",
   "execution_count": 8,
   "metadata": {},
   "outputs": [],
   "source": [
    "model = T5ForConditionalGeneration.from_pretrained('t5-base')"
   ]
  },
  {
   "cell_type": "code",
   "execution_count": 9,
   "metadata": {},
   "outputs": [],
   "source": [
    "tokenizer = T5Tokenizer.from_pretrained('t5-base')"
   ]
  },
  {
   "cell_type": "code",
   "execution_count": 10,
   "metadata": {},
   "outputs": [],
   "source": [
    "tokens_input = tokenizer.encode(Preprocessed_text,return_tensors=\"pt\", max_length=512, truncation=True)"
   ]
  },
  {
   "cell_type": "code",
   "execution_count": 14,
   "metadata": {},
   "outputs": [],
   "source": [
    "summary_ids = model.generate(tokens_input,min_length=10,max_length=50,length_penalty=4.0)"
   ]
  },
  {
   "cell_type": "code",
   "execution_count": 15,
   "metadata": {},
   "outputs": [],
   "source": [
    "summary = tokenizer.decode(summary_ids[0])"
   ]
  },
  {
   "cell_type": "code",
   "execution_count": 16,
   "metadata": {},
   "outputs": [
    {
     "data": {
      "text/plain": [
       "'<pad> i am british but my wife always asks me the most random shit. i guess it s a pretty common shower thought tbh. i read that in a bri'"
      ]
     },
     "execution_count": 16,
     "metadata": {},
     "output_type": "execute_result"
    }
   ],
   "source": [
    "summary"
   ]
  },
  {
   "cell_type": "code",
   "execution_count": null,
   "metadata": {},
   "outputs": [],
   "source": []
  }
 ],
 "metadata": {
  "kernelspec": {
   "display_name": "Python 3 (ipykernel)",
   "language": "python",
   "name": "python3"
  },
  "language_info": {
   "codemirror_mode": {
    "name": "ipython",
    "version": 3
   },
   "file_extension": ".py",
   "mimetype": "text/x-python",
   "name": "python",
   "nbconvert_exporter": "python",
   "pygments_lexer": "ipython3",
   "version": "3.8.10"
  }
 },
 "nbformat": 4,
 "nbformat_minor": 2
}
