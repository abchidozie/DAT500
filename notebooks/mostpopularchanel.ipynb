{
 "cells": [
  {
   "cell_type": "code",
   "execution_count": 12,
   "id": "cd5c2350",
   "metadata": {},
   "outputs": [],
   "source": [
    "import pandas as pd \n",
    "import numpy as np \n",
    "import glob \n",
    "from pyspark.sql import SparkSession\n",
    "import sqlite3\n",
    "from langdetect import detect\n",
    "from pyspark.sql.functions import when, lit, col, udf\n",
    "from mrjob.job import MRJob\n",
    "import re \n",
    "from map_red_pup import MostPopular"
   ]
  },
  {
   "cell_type": "code",
   "execution_count": 13,
   "id": "9820e5be",
   "metadata": {},
   "outputs": [],
   "source": [
    "spark = SparkSession.builder.master(\"local[1]\").appName('Reddit-app').getOrCreate()"
   ]
  },
  {
   "cell_type": "code",
   "execution_count": 16,
   "id": "b79a6088",
   "metadata": {},
   "outputs": [
    {
     "name": "stdout",
     "output_type": "stream",
     "text": [
      "No configs found; falling back on auto-configuration\n",
      "No configs specified for inline runner\n",
      "Traceback (most recent call last):\n",
      "  File \"map_red_pup.py\", line 30, in <module>\n",
      "    MostPopular.run()\n",
      "  File \"/home/ubuntu/.local/lib/python3.8/site-packages/mrjob/job.py\", line 616, in run\n",
      "    cls().execute()\n",
      "  File \"/home/ubuntu/.local/lib/python3.8/site-packages/mrjob/job.py\", line 687, in execute\n",
      "    self.run_job()\n",
      "  File \"/home/ubuntu/.local/lib/python3.8/site-packages/mrjob/job.py\", line 636, in run_job\n",
      "    runner.run()\n",
      "  File \"/home/ubuntu/.local/lib/python3.8/site-packages/mrjob/runner.py\", line 503, in run\n",
      "    self._run()\n",
      "  File \"/home/ubuntu/.local/lib/python3.8/site-packages/mrjob/sim.py\", line 146, in _run\n",
      "    self._output_dir = join(self._get_local_tmp_dir(), 'output')\n",
      "  File \"/home/ubuntu/.local/lib/python3.8/site-packages/mrjob/runner.py\", line 729, in _get_local_tmp_dir\n",
      "    tempfile.gettempdir())\n",
      "  File \"/usr/lib/python3.8/tempfile.py\", line 425, in gettempdir\n",
      "    tempdir = _get_default_tempdir()\n",
      "  File \"/usr/lib/python3.8/tempfile.py\", line 357, in _get_default_tempdir\n",
      "    raise FileNotFoundError(_errno.ENOENT,\n",
      "FileNotFoundError: [Errno 2] No usable temporary directory found in ['/tmp', '/var/tmp', '/usr/tmp', '/home/ubuntu']\n"
     ]
    }
   ],
   "source": [
    "!python3 map_red_pup.py data_reddit.csv> output2.csv"
   ]
  },
  {
   "cell_type": "code",
   "execution_count": null,
   "id": "74ef78ea",
   "metadata": {},
   "outputs": [],
   "source": []
  }
 ],
 "metadata": {
  "kernelspec": {
   "display_name": "Python 3 (ipykernel)",
   "language": "python",
   "name": "python3"
  },
  "language_info": {
   "codemirror_mode": {
    "name": "ipython",
    "version": 3
   },
   "file_extension": ".py",
   "mimetype": "text/x-python",
   "name": "python",
   "nbconvert_exporter": "python",
   "pygments_lexer": "ipython3",
   "version": "3.8.10"
  }
 },
 "nbformat": 4,
 "nbformat_minor": 5
}
