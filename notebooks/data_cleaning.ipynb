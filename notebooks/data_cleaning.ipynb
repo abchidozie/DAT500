{
 "cells": [
  {
   "cell_type": "code",
   "execution_count": 1,
   "metadata": {},
   "outputs": [],
   "source": [
    "import os\n",
    "# Overwrite Pyspark driver\n",
    "os.environ['PYSPARK_PYTHON'] = \"./environment/bin/python\""
   ]
  },
  {
   "cell_type": "code",
   "execution_count": 2,
   "metadata": {},
   "outputs": [],
   "source": [
    "import pandas as pd\n",
    "import numpy as np\n",
    "from pyspark.sql import SparkSession\n",
    "from langdetect import detect\n",
    "import pyspark as ps\n",
    "import datetime\n",
    "from pyspark.sql import functions as f\n",
    "from pyspark.sql import types as t\n",
    "from sparknlp.pretrained import PretrainedPipeline\n",
    "import re\n",
    "# from transformers import pipeline"
   ]
  },
  {
   "cell_type": "code",
   "execution_count": 3,
   "metadata": {},
   "outputs": [],
   "source": [
    "# Helper functions\n",
    "TEXT_CLEANING_RE = \"@\\S+|https?:\\S+|http?:\\S|[^A-Za-z0-9]+\"  \n",
    "def cleanText(text):\n",
    "    return re.sub(TEXT_CLEANING_RE, ' ', str(text).lower()).strip()\n",
    "# Convert function to UDF\n",
    "cleanTextDF = f.udf(lambda z: cleanText(z))"
   ]
  },
  {
   "cell_type": "code",
   "execution_count": 4,
   "metadata": {},
   "outputs": [
    {
     "name": "stdout",
     "output_type": "stream",
     "text": [
      ":: loading settings :: url = jar:file:/usr/local/spark/jars/ivy-2.5.0.jar!/org/apache/ivy/core/settings/ivysettings.xml\n"
     ]
    },
    {
     "name": "stderr",
     "output_type": "stream",
     "text": [
      "Ivy Default Cache set to: /home/ubuntu/.ivy2/cache\n",
      "The jars for the packages stored in: /home/ubuntu/.ivy2/jars\n",
      "com.johnsnowlabs.nlp#spark-nlp_2.12 added as a dependency\n",
      "org.apache.hadoop#hadoop-aws added as a dependency\n",
      ":: resolving dependencies :: org.apache.spark#spark-submit-parent-e8ca8b01-c660-4996-b490-633d6cfef769;1.0\n",
      "\tconfs: [default]\n",
      "\tfound com.johnsnowlabs.nlp#spark-nlp_2.12;3.4.3 in central\n",
      "\tfound com.typesafe#config;1.4.1 in central\n",
      "\tfound org.rocksdb#rocksdbjni;6.5.3 in central\n",
      "\tfound com.amazonaws#aws-java-sdk-bundle;1.11.603 in central\n",
      "\tfound com.github.universal-automata#liblevenshtein;3.0.0 in central\n",
      "\tfound com.google.code.findbugs#annotations;3.0.1 in central\n",
      "\tfound net.jcip#jcip-annotations;1.0 in central\n",
      "\tfound com.google.code.findbugs#jsr305;3.0.1 in central\n",
      "\tfound com.google.protobuf#protobuf-java-util;3.0.0-beta-3 in central\n",
      "\tfound com.google.protobuf#protobuf-java;3.0.0-beta-3 in central\n",
      "\tfound com.google.code.gson#gson;2.3 in central\n",
      "\tfound it.unimi.dsi#fastutil;7.0.12 in central\n",
      "\tfound org.projectlombok#lombok;1.16.8 in central\n",
      "\tfound org.slf4j#slf4j-api;1.7.21 in central\n",
      "\tfound com.navigamez#greex;1.0 in central\n",
      "\tfound dk.brics.automaton#automaton;1.11-8 in central\n",
      "\tfound org.json4s#json4s-ext_2.12;3.5.3 in central\n",
      "\tfound joda-time#joda-time;2.9.5 in central\n",
      "\tfound org.joda#joda-convert;1.8.1 in central\n",
      "\tfound com.johnsnowlabs.nlp#tensorflow-cpu_2.12;0.3.3 in central\n",
      "\tfound net.sf.trove4j#trove4j;3.0.3 in central\n",
      "\tfound org.apache.hadoop#hadoop-aws;2.7.3 in central\n",
      "\tfound org.apache.hadoop#hadoop-common;2.7.3 in central\n",
      "\tfound org.apache.hadoop#hadoop-annotations;2.7.3 in central\n",
      "\tfound com.google.guava#guava;11.0.2 in central\n",
      "\tfound commons-cli#commons-cli;1.2 in central\n",
      "\tfound org.apache.commons#commons-math3;3.1.1 in central\n",
      "\tfound xmlenc#xmlenc;0.52 in central\n",
      "\tfound commons-httpclient#commons-httpclient;3.1 in central\n",
      "\tfound commons-logging#commons-logging;1.1.3 in central\n",
      "\tfound commons-codec#commons-codec;1.4 in central\n",
      "\tfound commons-io#commons-io;2.4 in central\n",
      "\tfound commons-net#commons-net;3.1 in central\n",
      "\tfound commons-collections#commons-collections;3.2.2 in central\n",
      "\tfound javax.servlet#servlet-api;2.5 in central\n",
      "\tfound org.mortbay.jetty#jetty;6.1.26 in central\n",
      "\tfound org.mortbay.jetty#jetty-util;6.1.26 in central\n",
      "\tfound com.sun.jersey#jersey-core;1.9 in central\n",
      "\tfound com.sun.jersey#jersey-json;1.9 in central\n",
      "\tfound org.codehaus.jettison#jettison;1.1 in central\n",
      "\tfound com.sun.xml.bind#jaxb-impl;2.2.3-1 in central\n",
      "\tfound javax.xml.bind#jaxb-api;2.2.2 in central\n",
      "\tfound javax.xml.stream#stax-api;1.0-2 in central\n",
      "\tfound javax.activation#activation;1.1 in central\n",
      "\tfound org.codehaus.jackson#jackson-core-asl;1.9.13 in central\n",
      "\tfound org.codehaus.jackson#jackson-mapper-asl;1.9.13 in central\n",
      "\tfound org.codehaus.jackson#jackson-jaxrs;1.9.13 in central\n",
      "\tfound org.codehaus.jackson#jackson-xc;1.9.13 in central\n",
      "\tfound com.sun.jersey#jersey-server;1.9 in central\n",
      "\tfound asm#asm;3.2 in central\n",
      "\tfound log4j#log4j;1.2.17 in central\n",
      "\tfound net.java.dev.jets3t#jets3t;0.9.0 in central\n",
      "\tfound org.apache.httpcomponents#httpclient;4.2.5 in central\n",
      "\tfound org.apache.httpcomponents#httpcore;4.2.5 in central\n",
      "\tfound com.jamesmurty.utils#java-xmlbuilder;0.4 in central\n",
      "\tfound commons-lang#commons-lang;2.6 in central\n",
      "\tfound commons-configuration#commons-configuration;1.6 in central\n",
      "\tfound commons-digester#commons-digester;1.8 in central\n",
      "\tfound commons-beanutils#commons-beanutils;1.7.0 in central\n",
      "\tfound commons-beanutils#commons-beanutils-core;1.8.0 in central\n",
      "\tfound org.apache.avro#avro;1.7.4 in central\n",
      "\tfound com.thoughtworks.paranamer#paranamer;2.3 in central\n",
      "\tfound org.xerial.snappy#snappy-java;1.0.4.1 in central\n",
      "\tfound org.apache.commons#commons-compress;1.4.1 in central\n",
      "\tfound org.tukaani#xz;1.0 in central\n",
      "\tfound org.apache.hadoop#hadoop-auth;2.7.3 in central\n",
      "\tfound org.apache.directory.server#apacheds-kerberos-codec;2.0.0-M15 in central\n",
      "\tfound org.apache.directory.server#apacheds-i18n;2.0.0-M15 in central\n",
      "\tfound org.apache.directory.api#api-asn1-api;1.0.0-M20 in central\n",
      "\tfound org.apache.directory.api#api-util;1.0.0-M20 in central\n",
      "\tfound org.apache.zookeeper#zookeeper;3.4.6 in central\n",
      "\tfound org.slf4j#slf4j-log4j12;1.7.10 in central\n",
      "\tfound io.netty#netty;3.6.2.Final in central\n",
      "\tfound org.apache.curator#curator-framework;2.7.1 in central\n",
      "\tfound org.apache.curator#curator-client;2.7.1 in central\n",
      "\tfound com.jcraft#jsch;0.1.42 in central\n",
      "\tfound org.apache.curator#curator-recipes;2.7.1 in central\n",
      "\tfound org.apache.htrace#htrace-core;3.1.0-incubating in central\n",
      "\tfound javax.servlet.jsp#jsp-api;2.1 in central\n",
      "\tfound jline#jline;0.9.94 in central\n",
      "\tfound com.fasterxml.jackson.core#jackson-databind;2.2.3 in central\n",
      "\tfound com.fasterxml.jackson.core#jackson-annotations;2.2.3 in central\n",
      "\tfound com.fasterxml.jackson.core#jackson-core;2.2.3 in central\n",
      "\tfound com.amazonaws#aws-java-sdk;1.7.4 in central\n",
      "\tfound joda-time#joda-time;2.10.14 in central\n",
      "\t[2.10.14] joda-time#joda-time;[2.2,)\n",
      ":: resolution report :: resolve 9479ms :: artifacts dl 400ms\n",
      "\t:: modules in use:\n",
      "\tasm#asm;3.2 from central in [default]\n",
      "\tcom.amazonaws#aws-java-sdk;1.7.4 from central in [default]\n",
      "\tcom.amazonaws#aws-java-sdk-bundle;1.11.603 from central in [default]\n",
      "\tcom.fasterxml.jackson.core#jackson-annotations;2.2.3 from central in [default]\n",
      "\tcom.fasterxml.jackson.core#jackson-core;2.2.3 from central in [default]\n",
      "\tcom.fasterxml.jackson.core#jackson-databind;2.2.3 from central in [default]\n",
      "\tcom.github.universal-automata#liblevenshtein;3.0.0 from central in [default]\n",
      "\tcom.google.code.findbugs#annotations;3.0.1 from central in [default]\n",
      "\tcom.google.code.findbugs#jsr305;3.0.1 from central in [default]\n",
      "\tcom.google.code.gson#gson;2.3 from central in [default]\n",
      "\tcom.google.guava#guava;11.0.2 from central in [default]\n",
      "\tcom.google.protobuf#protobuf-java;3.0.0-beta-3 from central in [default]\n",
      "\tcom.google.protobuf#protobuf-java-util;3.0.0-beta-3 from central in [default]\n",
      "\tcom.jamesmurty.utils#java-xmlbuilder;0.4 from central in [default]\n",
      "\tcom.jcraft#jsch;0.1.42 from central in [default]\n",
      "\tcom.johnsnowlabs.nlp#spark-nlp_2.12;3.4.3 from central in [default]\n",
      "\tcom.johnsnowlabs.nlp#tensorflow-cpu_2.12;0.3.3 from central in [default]\n",
      "\tcom.navigamez#greex;1.0 from central in [default]\n",
      "\tcom.sun.jersey#jersey-core;1.9 from central in [default]\n",
      "\tcom.sun.jersey#jersey-json;1.9 from central in [default]\n",
      "\tcom.sun.jersey#jersey-server;1.9 from central in [default]\n",
      "\tcom.sun.xml.bind#jaxb-impl;2.2.3-1 from central in [default]\n",
      "\tcom.thoughtworks.paranamer#paranamer;2.3 from central in [default]\n",
      "\tcom.typesafe#config;1.4.1 from central in [default]\n",
      "\tcommons-beanutils#commons-beanutils;1.7.0 from central in [default]\n",
      "\tcommons-beanutils#commons-beanutils-core;1.8.0 from central in [default]\n",
      "\tcommons-cli#commons-cli;1.2 from central in [default]\n",
      "\tcommons-codec#commons-codec;1.4 from central in [default]\n",
      "\tcommons-collections#commons-collections;3.2.2 from central in [default]\n",
      "\tcommons-configuration#commons-configuration;1.6 from central in [default]\n",
      "\tcommons-digester#commons-digester;1.8 from central in [default]\n",
      "\tcommons-httpclient#commons-httpclient;3.1 from central in [default]\n",
      "\tcommons-io#commons-io;2.4 from central in [default]\n",
      "\tcommons-lang#commons-lang;2.6 from central in [default]\n",
      "\tcommons-logging#commons-logging;1.1.3 from central in [default]\n",
      "\tcommons-net#commons-net;3.1 from central in [default]\n",
      "\tdk.brics.automaton#automaton;1.11-8 from central in [default]\n",
      "\tio.netty#netty;3.6.2.Final from central in [default]\n",
      "\tit.unimi.dsi#fastutil;7.0.12 from central in [default]\n",
      "\tjavax.activation#activation;1.1 from central in [default]\n",
      "\tjavax.servlet#servlet-api;2.5 from central in [default]\n",
      "\tjavax.servlet.jsp#jsp-api;2.1 from central in [default]\n",
      "\tjavax.xml.bind#jaxb-api;2.2.2 from central in [default]\n",
      "\tjavax.xml.stream#stax-api;1.0-2 from central in [default]\n",
      "\tjline#jline;0.9.94 from central in [default]\n",
      "\tjoda-time#joda-time;2.10.14 from central in [default]\n",
      "\tlog4j#log4j;1.2.17 from central in [default]\n",
      "\tnet.java.dev.jets3t#jets3t;0.9.0 from central in [default]\n",
      "\tnet.jcip#jcip-annotations;1.0 from central in [default]\n",
      "\tnet.sf.trove4j#trove4j;3.0.3 from central in [default]\n",
      "\torg.apache.avro#avro;1.7.4 from central in [default]\n",
      "\torg.apache.commons#commons-compress;1.4.1 from central in [default]\n",
      "\torg.apache.commons#commons-math3;3.1.1 from central in [default]\n",
      "\torg.apache.curator#curator-client;2.7.1 from central in [default]\n",
      "\torg.apache.curator#curator-framework;2.7.1 from central in [default]\n",
      "\torg.apache.curator#curator-recipes;2.7.1 from central in [default]\n",
      "\torg.apache.directory.api#api-asn1-api;1.0.0-M20 from central in [default]\n",
      "\torg.apache.directory.api#api-util;1.0.0-M20 from central in [default]\n",
      "\torg.apache.directory.server#apacheds-i18n;2.0.0-M15 from central in [default]\n",
      "\torg.apache.directory.server#apacheds-kerberos-codec;2.0.0-M15 from central in [default]\n",
      "\torg.apache.hadoop#hadoop-annotations;2.7.3 from central in [default]\n",
      "\torg.apache.hadoop#hadoop-auth;2.7.3 from central in [default]\n",
      "\torg.apache.hadoop#hadoop-aws;2.7.3 from central in [default]\n",
      "\torg.apache.hadoop#hadoop-common;2.7.3 from central in [default]\n",
      "\torg.apache.htrace#htrace-core;3.1.0-incubating from central in [default]\n",
      "\torg.apache.httpcomponents#httpclient;4.2.5 from central in [default]\n",
      "\torg.apache.httpcomponents#httpcore;4.2.5 from central in [default]\n",
      "\torg.apache.zookeeper#zookeeper;3.4.6 from central in [default]\n",
      "\torg.codehaus.jackson#jackson-core-asl;1.9.13 from central in [default]\n",
      "\torg.codehaus.jackson#jackson-jaxrs;1.9.13 from central in [default]\n",
      "\torg.codehaus.jackson#jackson-mapper-asl;1.9.13 from central in [default]\n",
      "\torg.codehaus.jackson#jackson-xc;1.9.13 from central in [default]\n",
      "\torg.codehaus.jettison#jettison;1.1 from central in [default]\n",
      "\torg.joda#joda-convert;1.8.1 from central in [default]\n",
      "\torg.json4s#json4s-ext_2.12;3.5.3 from central in [default]\n",
      "\torg.mortbay.jetty#jetty;6.1.26 from central in [default]\n",
      "\torg.mortbay.jetty#jetty-util;6.1.26 from central in [default]\n",
      "\torg.projectlombok#lombok;1.16.8 from central in [default]\n",
      "\torg.rocksdb#rocksdbjni;6.5.3 from central in [default]\n",
      "\torg.slf4j#slf4j-api;1.7.21 from central in [default]\n",
      "\torg.slf4j#slf4j-log4j12;1.7.10 from central in [default]\n",
      "\torg.tukaani#xz;1.0 from central in [default]\n",
      "\torg.xerial.snappy#snappy-java;1.0.4.1 from central in [default]\n",
      "\txmlenc#xmlenc;0.52 from central in [default]\n",
      "\t:: evicted modules:\n",
      "\tjoda-time#joda-time;2.9.5 by [joda-time#joda-time;2.10.14] in [default]\n",
      "\tcom.google.code.findbugs#jsr305;3.0.0 by [com.google.code.findbugs#jsr305;3.0.1] in [default]\n",
      "\torg.slf4j#slf4j-api;1.7.10 by [org.slf4j#slf4j-api;1.7.21] in [default]\n",
      "\tcom.google.protobuf#protobuf-java;2.5.0 by [com.google.protobuf#protobuf-java;3.0.0-beta-3] in [default]\n",
      "\tcom.google.code.gson#gson;2.2.4 by [com.google.code.gson#gson;2.3] in [default]\n",
      "\t---------------------------------------------------------------------\n",
      "\t|                  |            modules            ||   artifacts   |\n",
      "\t|       conf       | number| search|dwnlded|evicted|| number|dwnlded|\n",
      "\t---------------------------------------------------------------------\n",
      "\t|      default     |   89  |   1   |   0   |   5   ||   84  |   0   |\n",
      "\t---------------------------------------------------------------------\n",
      ":: retrieving :: org.apache.spark#spark-submit-parent-e8ca8b01-c660-4996-b490-633d6cfef769\n",
      "\tconfs: [default]\n",
      "\t0 artifacts copied, 84 already retrieved (0kB/26ms)\n"
     ]
    },
    {
     "name": "stderr",
     "output_type": "stream",
     "text": [
      "2022-04-30 15:07:39,366 WARN util.NativeCodeLoader: Unable to load native-hadoop library for your platform... using builtin-java classes where applicable\n",
      "Setting default log level to \"WARN\".\n",
      "To adjust logging level use sc.setLogLevel(newLevel). For SparkR, use setLogLevel(newLevel).\n",
      "2022-04-30 15:07:50,821 WARN yarn.Client: Neither spark.yarn.jars nor spark.yarn.archive is set, falling back to uploading libraries under SPARK_HOME.\n",
      "2022-04-30 15:08:37,528 WARN yarn.Client: Same path resource file:///home/ubuntu/.ivy2/jars/com.johnsnowlabs.nlp_spark-nlp_2.12-3.4.3.jar added multiple times to distributed cache.\n",
      "2022-04-30 15:08:37,528 WARN yarn.Client: Same path resource file:///home/ubuntu/.ivy2/jars/org.apache.hadoop_hadoop-aws-2.7.3.jar added multiple times to distributed cache.\n",
      "2022-04-30 15:08:37,528 WARN yarn.Client: Same path resource file:///home/ubuntu/.ivy2/jars/com.typesafe_config-1.4.1.jar added multiple times to distributed cache.\n",
      "2022-04-30 15:08:37,528 WARN yarn.Client: Same path resource file:///home/ubuntu/.ivy2/jars/org.rocksdb_rocksdbjni-6.5.3.jar added multiple times to distributed cache.\n",
      "2022-04-30 15:08:37,528 WARN yarn.Client: Same path resource file:///home/ubuntu/.ivy2/jars/com.amazonaws_aws-java-sdk-bundle-1.11.603.jar added multiple times to distributed cache.\n",
      "2022-04-30 15:08:37,528 WARN yarn.Client: Same path resource file:///home/ubuntu/.ivy2/jars/com.github.universal-automata_liblevenshtein-3.0.0.jar added multiple times to distributed cache.\n",
      "2022-04-30 15:08:37,528 WARN yarn.Client: Same path resource file:///home/ubuntu/.ivy2/jars/com.navigamez_greex-1.0.jar added multiple times to distributed cache.\n",
      "2022-04-30 15:08:37,528 WARN yarn.Client: Same path resource file:///home/ubuntu/.ivy2/jars/org.json4s_json4s-ext_2.12-3.5.3.jar added multiple times to distributed cache.\n",
      "2022-04-30 15:08:37,528 WARN yarn.Client: Same path resource file:///home/ubuntu/.ivy2/jars/com.johnsnowlabs.nlp_tensorflow-cpu_2.12-0.3.3.jar added multiple times to distributed cache.\n",
      "2022-04-30 15:08:37,528 WARN yarn.Client: Same path resource file:///home/ubuntu/.ivy2/jars/net.sf.trove4j_trove4j-3.0.3.jar added multiple times to distributed cache.\n",
      "2022-04-30 15:08:37,529 WARN yarn.Client: Same path resource file:///home/ubuntu/.ivy2/jars/com.google.code.findbugs_annotations-3.0.1.jar added multiple times to distributed cache.\n",
      "2022-04-30 15:08:37,529 WARN yarn.Client: Same path resource file:///home/ubuntu/.ivy2/jars/com.google.protobuf_protobuf-java-util-3.0.0-beta-3.jar added multiple times to distributed cache.\n",
      "2022-04-30 15:08:37,529 WARN yarn.Client: Same path resource file:///home/ubuntu/.ivy2/jars/com.google.protobuf_protobuf-java-3.0.0-beta-3.jar added multiple times to distributed cache.\n",
      "2022-04-30 15:08:37,529 WARN yarn.Client: Same path resource file:///home/ubuntu/.ivy2/jars/it.unimi.dsi_fastutil-7.0.12.jar added multiple times to distributed cache.\n",
      "2022-04-30 15:08:37,529 WARN yarn.Client: Same path resource file:///home/ubuntu/.ivy2/jars/org.projectlombok_lombok-1.16.8.jar added multiple times to distributed cache.\n",
      "2022-04-30 15:08:37,529 WARN yarn.Client: Same path resource file:///home/ubuntu/.ivy2/jars/org.slf4j_slf4j-api-1.7.21.jar added multiple times to distributed cache.\n",
      "2022-04-30 15:08:37,529 WARN yarn.Client: Same path resource file:///home/ubuntu/.ivy2/jars/net.jcip_jcip-annotations-1.0.jar added multiple times to distributed cache.\n",
      "2022-04-30 15:08:37,529 WARN yarn.Client: Same path resource file:///home/ubuntu/.ivy2/jars/com.google.code.findbugs_jsr305-3.0.1.jar added multiple times to distributed cache.\n",
      "2022-04-30 15:08:37,529 WARN yarn.Client: Same path resource file:///home/ubuntu/.ivy2/jars/com.google.code.gson_gson-2.3.jar added multiple times to distributed cache.\n",
      "2022-04-30 15:08:37,529 WARN yarn.Client: Same path resource file:///home/ubuntu/.ivy2/jars/dk.brics.automaton_automaton-1.11-8.jar added multiple times to distributed cache.\n",
      "2022-04-30 15:08:37,529 WARN yarn.Client: Same path resource file:///home/ubuntu/.ivy2/jars/org.joda_joda-convert-1.8.1.jar added multiple times to distributed cache.\n",
      "2022-04-30 15:08:37,530 WARN yarn.Client: Same path resource file:///home/ubuntu/.ivy2/jars/org.apache.hadoop_hadoop-common-2.7.3.jar added multiple times to distributed cache.\n",
      "2022-04-30 15:08:37,530 WARN yarn.Client: Same path resource file:///home/ubuntu/.ivy2/jars/com.fasterxml.jackson.core_jackson-databind-2.2.3.jar added multiple times to distributed cache.\n",
      "2022-04-30 15:08:37,530 WARN yarn.Client: Same path resource file:///home/ubuntu/.ivy2/jars/com.fasterxml.jackson.core_jackson-annotations-2.2.3.jar added multiple times to distributed cache.\n",
      "2022-04-30 15:08:37,530 WARN yarn.Client: Same path resource file:///home/ubuntu/.ivy2/jars/com.amazonaws_aws-java-sdk-1.7.4.jar added multiple times to distributed cache.\n",
      "2022-04-30 15:08:37,530 WARN yarn.Client: Same path resource file:///home/ubuntu/.ivy2/jars/org.apache.hadoop_hadoop-annotations-2.7.3.jar added multiple times to distributed cache.\n",
      "2022-04-30 15:08:37,530 WARN yarn.Client: Same path resource file:///home/ubuntu/.ivy2/jars/com.google.guava_guava-11.0.2.jar added multiple times to distributed cache.\n",
      "2022-04-30 15:08:37,530 WARN yarn.Client: Same path resource file:///home/ubuntu/.ivy2/jars/commons-cli_commons-cli-1.2.jar added multiple times to distributed cache.\n",
      "2022-04-30 15:08:37,530 WARN yarn.Client: Same path resource file:///home/ubuntu/.ivy2/jars/org.apache.commons_commons-math3-3.1.1.jar added multiple times to distributed cache.\n",
      "2022-04-30 15:08:37,530 WARN yarn.Client: Same path resource file:///home/ubuntu/.ivy2/jars/xmlenc_xmlenc-0.52.jar added multiple times to distributed cache.\n",
      "2022-04-30 15:08:37,530 WARN yarn.Client: Same path resource file:///home/ubuntu/.ivy2/jars/commons-httpclient_commons-httpclient-3.1.jar added multiple times to distributed cache.\n",
      "2022-04-30 15:08:37,530 WARN yarn.Client: Same path resource file:///home/ubuntu/.ivy2/jars/commons-codec_commons-codec-1.4.jar added multiple times to distributed cache.\n",
      "2022-04-30 15:08:37,530 WARN yarn.Client: Same path resource file:///home/ubuntu/.ivy2/jars/commons-io_commons-io-2.4.jar added multiple times to distributed cache.\n",
      "2022-04-30 15:08:37,530 WARN yarn.Client: Same path resource file:///home/ubuntu/.ivy2/jars/commons-net_commons-net-3.1.jar added multiple times to distributed cache.\n",
      "2022-04-30 15:08:37,530 WARN yarn.Client: Same path resource file:///home/ubuntu/.ivy2/jars/commons-collections_commons-collections-3.2.2.jar added multiple times to distributed cache.\n",
      "2022-04-30 15:08:37,530 WARN yarn.Client: Same path resource file:///home/ubuntu/.ivy2/jars/javax.servlet_servlet-api-2.5.jar added multiple times to distributed cache.\n",
      "2022-04-30 15:08:37,530 WARN yarn.Client: Same path resource file:///home/ubuntu/.ivy2/jars/org.mortbay.jetty_jetty-6.1.26.jar added multiple times to distributed cache.\n",
      "2022-04-30 15:08:37,530 WARN yarn.Client: Same path resource file:///home/ubuntu/.ivy2/jars/org.mortbay.jetty_jetty-util-6.1.26.jar added multiple times to distributed cache.\n",
      "2022-04-30 15:08:37,530 WARN yarn.Client: Same path resource file:///home/ubuntu/.ivy2/jars/com.sun.jersey_jersey-core-1.9.jar added multiple times to distributed cache.\n",
      "2022-04-30 15:08:37,530 WARN yarn.Client: Same path resource file:///home/ubuntu/.ivy2/jars/com.sun.jersey_jersey-json-1.9.jar added multiple times to distributed cache.\n",
      "2022-04-30 15:08:37,530 WARN yarn.Client: Same path resource file:///home/ubuntu/.ivy2/jars/com.sun.jersey_jersey-server-1.9.jar added multiple times to distributed cache.\n",
      "2022-04-30 15:08:37,530 WARN yarn.Client: Same path resource file:///home/ubuntu/.ivy2/jars/commons-logging_commons-logging-1.1.3.jar added multiple times to distributed cache.\n",
      "2022-04-30 15:08:37,530 WARN yarn.Client: Same path resource file:///home/ubuntu/.ivy2/jars/log4j_log4j-1.2.17.jar added multiple times to distributed cache.\n",
      "2022-04-30 15:08:37,531 WARN yarn.Client: Same path resource file:///home/ubuntu/.ivy2/jars/net.java.dev.jets3t_jets3t-0.9.0.jar added multiple times to distributed cache.\n",
      "2022-04-30 15:08:37,531 WARN yarn.Client: Same path resource file:///home/ubuntu/.ivy2/jars/commons-lang_commons-lang-2.6.jar added multiple times to distributed cache.\n",
      "2022-04-30 15:08:37,531 WARN yarn.Client: Same path resource file:///home/ubuntu/.ivy2/jars/commons-configuration_commons-configuration-1.6.jar added multiple times to distributed cache.\n",
      "2022-04-30 15:08:37,531 WARN yarn.Client: Same path resource file:///home/ubuntu/.ivy2/jars/org.codehaus.jackson_jackson-core-asl-1.9.13.jar added multiple times to distributed cache.\n",
      "2022-04-30 15:08:37,531 WARN yarn.Client: Same path resource file:///home/ubuntu/.ivy2/jars/org.codehaus.jackson_jackson-mapper-asl-1.9.13.jar added multiple times to distributed cache.\n",
      "2022-04-30 15:08:37,531 WARN yarn.Client: Same path resource file:///home/ubuntu/.ivy2/jars/org.apache.avro_avro-1.7.4.jar added multiple times to distributed cache.\n",
      "2022-04-30 15:08:37,531 WARN yarn.Client: Same path resource file:///home/ubuntu/.ivy2/jars/org.apache.hadoop_hadoop-auth-2.7.3.jar added multiple times to distributed cache.\n",
      "2022-04-30 15:08:37,531 WARN yarn.Client: Same path resource file:///home/ubuntu/.ivy2/jars/com.jcraft_jsch-0.1.42.jar added multiple times to distributed cache.\n",
      "2022-04-30 15:08:37,531 WARN yarn.Client: Same path resource file:///home/ubuntu/.ivy2/jars/org.apache.curator_curator-client-2.7.1.jar added multiple times to distributed cache.\n",
      "2022-04-30 15:08:37,531 WARN yarn.Client: Same path resource file:///home/ubuntu/.ivy2/jars/org.apache.curator_curator-recipes-2.7.1.jar added multiple times to distributed cache.\n",
      "2022-04-30 15:08:37,531 WARN yarn.Client: Same path resource file:///home/ubuntu/.ivy2/jars/org.apache.htrace_htrace-core-3.1.0-incubating.jar added multiple times to distributed cache.\n",
      "2022-04-30 15:08:37,531 WARN yarn.Client: Same path resource file:///home/ubuntu/.ivy2/jars/org.apache.zookeeper_zookeeper-3.4.6.jar added multiple times to distributed cache.\n",
      "2022-04-30 15:08:37,531 WARN yarn.Client: Same path resource file:///home/ubuntu/.ivy2/jars/org.apache.commons_commons-compress-1.4.1.jar added multiple times to distributed cache.\n",
      "2022-04-30 15:08:37,531 WARN yarn.Client: Same path resource file:///home/ubuntu/.ivy2/jars/org.codehaus.jettison_jettison-1.1.jar added multiple times to distributed cache.\n",
      "2022-04-30 15:08:37,531 WARN yarn.Client: Same path resource file:///home/ubuntu/.ivy2/jars/com.sun.xml.bind_jaxb-impl-2.2.3-1.jar added multiple times to distributed cache.\n",
      "2022-04-30 15:08:37,531 WARN yarn.Client: Same path resource file:///home/ubuntu/.ivy2/jars/org.codehaus.jackson_jackson-jaxrs-1.9.13.jar added multiple times to distributed cache.\n",
      "2022-04-30 15:08:37,531 WARN yarn.Client: Same path resource file:///home/ubuntu/.ivy2/jars/org.codehaus.jackson_jackson-xc-1.9.13.jar added multiple times to distributed cache.\n",
      "2022-04-30 15:08:37,531 WARN yarn.Client: Same path resource file:///home/ubuntu/.ivy2/jars/javax.xml.bind_jaxb-api-2.2.2.jar added multiple times to distributed cache.\n",
      "2022-04-30 15:08:37,531 WARN yarn.Client: Same path resource file:///home/ubuntu/.ivy2/jars/javax.xml.stream_stax-api-1.0-2.jar added multiple times to distributed cache.\n",
      "2022-04-30 15:08:37,531 WARN yarn.Client: Same path resource file:///home/ubuntu/.ivy2/jars/javax.activation_activation-1.1.jar added multiple times to distributed cache.\n",
      "2022-04-30 15:08:37,531 WARN yarn.Client: Same path resource file:///home/ubuntu/.ivy2/jars/asm_asm-3.2.jar added multiple times to distributed cache.\n",
      "2022-04-30 15:08:37,531 WARN yarn.Client: Same path resource file:///home/ubuntu/.ivy2/jars/org.apache.httpcomponents_httpclient-4.2.5.jar added multiple times to distributed cache.\n",
      "2022-04-30 15:08:37,532 WARN yarn.Client: Same path resource file:///home/ubuntu/.ivy2/jars/org.apache.httpcomponents_httpcore-4.2.5.jar added multiple times to distributed cache.\n",
      "2022-04-30 15:08:37,532 WARN yarn.Client: Same path resource file:///home/ubuntu/.ivy2/jars/com.jamesmurty.utils_java-xmlbuilder-0.4.jar added multiple times to distributed cache.\n",
      "2022-04-30 15:08:37,532 WARN yarn.Client: Same path resource file:///home/ubuntu/.ivy2/jars/commons-digester_commons-digester-1.8.jar added multiple times to distributed cache.\n",
      "2022-04-30 15:08:37,532 WARN yarn.Client: Same path resource file:///home/ubuntu/.ivy2/jars/commons-beanutils_commons-beanutils-core-1.8.0.jar added multiple times to distributed cache.\n",
      "2022-04-30 15:08:37,532 WARN yarn.Client: Same path resource file:///home/ubuntu/.ivy2/jars/commons-beanutils_commons-beanutils-1.7.0.jar added multiple times to distributed cache.\n",
      "2022-04-30 15:08:37,532 WARN yarn.Client: Same path resource file:///home/ubuntu/.ivy2/jars/com.thoughtworks.paranamer_paranamer-2.3.jar added multiple times to distributed cache.\n",
      "2022-04-30 15:08:37,532 WARN yarn.Client: Same path resource file:///home/ubuntu/.ivy2/jars/org.xerial.snappy_snappy-java-1.0.4.1.jar added multiple times to distributed cache.\n",
      "2022-04-30 15:08:37,532 WARN yarn.Client: Same path resource file:///home/ubuntu/.ivy2/jars/org.tukaani_xz-1.0.jar added multiple times to distributed cache.\n",
      "2022-04-30 15:08:37,532 WARN yarn.Client: Same path resource file:///home/ubuntu/.ivy2/jars/org.apache.directory.server_apacheds-kerberos-codec-2.0.0-M15.jar added multiple times to distributed cache.\n",
      "2022-04-30 15:08:37,532 WARN yarn.Client: Same path resource file:///home/ubuntu/.ivy2/jars/org.apache.curator_curator-framework-2.7.1.jar added multiple times to distributed cache.\n",
      "2022-04-30 15:08:37,532 WARN yarn.Client: Same path resource file:///home/ubuntu/.ivy2/jars/org.apache.directory.server_apacheds-i18n-2.0.0-M15.jar added multiple times to distributed cache.\n",
      "2022-04-30 15:08:37,532 WARN yarn.Client: Same path resource file:///home/ubuntu/.ivy2/jars/org.apache.directory.api_api-asn1-api-1.0.0-M20.jar added multiple times to distributed cache.\n",
      "2022-04-30 15:08:37,532 WARN yarn.Client: Same path resource file:///home/ubuntu/.ivy2/jars/org.apache.directory.api_api-util-1.0.0-M20.jar added multiple times to distributed cache.\n",
      "2022-04-30 15:08:37,532 WARN yarn.Client: Same path resource file:///home/ubuntu/.ivy2/jars/org.slf4j_slf4j-log4j12-1.7.10.jar added multiple times to distributed cache.\n",
      "2022-04-30 15:08:37,533 WARN yarn.Client: Same path resource file:///home/ubuntu/.ivy2/jars/io.netty_netty-3.6.2.Final.jar added multiple times to distributed cache.\n",
      "2022-04-30 15:08:37,533 WARN yarn.Client: Same path resource file:///home/ubuntu/.ivy2/jars/javax.servlet.jsp_jsp-api-2.1.jar added multiple times to distributed cache.\n",
      "2022-04-30 15:08:37,533 WARN yarn.Client: Same path resource file:///home/ubuntu/.ivy2/jars/jline_jline-0.9.94.jar added multiple times to distributed cache.\n",
      "2022-04-30 15:08:37,533 WARN yarn.Client: Same path resource file:///home/ubuntu/.ivy2/jars/com.fasterxml.jackson.core_jackson-core-2.2.3.jar added multiple times to distributed cache.\n",
      "2022-04-30 15:08:37,533 WARN yarn.Client: Same path resource file:///home/ubuntu/.ivy2/jars/joda-time_joda-time-2.10.14.jar added multiple times to distributed cache.\n"
     ]
    }
   ],
   "source": [
    "spark = SparkSession.builder \\\n",
    "    .appName(\"Redit Summarization\")\\\n",
    "    .master(\"yarn\")\\\n",
    "    .config(\"spark.driver.memory\",\"16g\")\\\n",
    "    .config(\"spark.executor.memoryOverhead\",\"2048\")\\\n",
    "    .config(\"spark.executor.memory\",\"4g\")\\\n",
    "    .config(\"spark.kryoserializer.buffer.max\", \"2000m\")\\\n",
    "    .config(\"spark.yarn.dist.archives\",\"pyspark_venv.tar.gz#environment\")\\\n",
    "    .config(\"spark.jars.packages\", \"com.johnsnowlabs.nlp:spark-nlp_2.12:3.4.3,org.apache.hadoop:hadoop-aws:2.7.3\")\\\n",
    "    .getOrCreate()"
   ]
  },
  {
   "cell_type": "code",
   "execution_count": 5,
   "metadata": {},
   "outputs": [
    {
     "data": {
      "text/html": [
       "\n",
       "            <div>\n",
       "                <p><b>SparkSession - in-memory</b></p>\n",
       "                \n",
       "        <div>\n",
       "            <p><b>SparkContext</b></p>\n",
       "\n",
       "            <p><a href=\"http://namenode:4040\">Spark UI</a></p>\n",
       "\n",
       "            <dl>\n",
       "              <dt>Version</dt>\n",
       "                <dd><code>v3.2.0</code></dd>\n",
       "              <dt>Master</dt>\n",
       "                <dd><code>yarn</code></dd>\n",
       "              <dt>AppName</dt>\n",
       "                <dd><code>Redit Summarization</code></dd>\n",
       "            </dl>\n",
       "        </div>\n",
       "        \n",
       "            </div>\n",
       "        "
      ],
      "text/plain": [
       "<pyspark.sql.session.SparkSession at 0x7fa9c26b51c0>"
      ]
     },
     "execution_count": 5,
     "metadata": {},
     "output_type": "execute_result"
    }
   ],
   "source": [
    "# Get spark configurations\n",
    "spark"
   ]
  },
  {
   "cell_type": "code",
   "execution_count": 6,
   "metadata": {},
   "outputs": [
    {
     "name": "stderr",
     "output_type": "stream",
     "text": [
      "                                                                                \r"
     ]
    }
   ],
   "source": [
    "# Read data\n",
    "df = spark.read.format(\"csv\").option(\"header\",\"true\").load(\"hdfs://namenode:9000/dis_materials/data_reddit.csv\")"
   ]
  },
  {
   "cell_type": "code",
   "execution_count": 7,
   "metadata": {},
   "outputs": [],
   "source": [
    "# drop duplicates\n",
    "df2 = df.dropDuplicates()"
   ]
  },
  {
   "cell_type": "code",
   "execution_count": 8,
   "metadata": {},
   "outputs": [
    {
     "data": {
      "text/plain": [
       "[('created_utc', 'string'),\n",
       " ('ups', 'string'),\n",
       " ('subreddit_id', 'string'),\n",
       " ('link_id', 'string'),\n",
       " ('name', 'string'),\n",
       " ('score_hidden', 'string'),\n",
       " ('author_flair_css_class', 'string'),\n",
       " ('author_flair_text', 'string'),\n",
       " ('subreddit', 'string'),\n",
       " ('id', 'string'),\n",
       " ('removal_reason', 'string'),\n",
       " ('gilded', 'string'),\n",
       " ('downs', 'string'),\n",
       " ('archived', 'string'),\n",
       " ('author', 'string'),\n",
       " ('score', 'string'),\n",
       " ('retrieved_on', 'string'),\n",
       " ('body', 'string'),\n",
       " ('distinguished', 'string'),\n",
       " ('edited', 'string'),\n",
       " ('controversiality', 'string'),\n",
       " ('parent_id', 'string')]"
      ]
     },
     "execution_count": 8,
     "metadata": {},
     "output_type": "execute_result"
    }
   ],
   "source": [
    "df.dtypes"
   ]
  },
  {
   "cell_type": "code",
   "execution_count": 9,
   "metadata": {},
   "outputs": [],
   "source": [
    "df2= df2.withColumn('created_utc', f.from_unixtime('created_utc').cast(t.DateType()))"
   ]
  },
  {
   "cell_type": "code",
   "execution_count": 10,
   "metadata": {},
   "outputs": [],
   "source": [
    "# drop null values\n",
    "df2 = df2.na.drop(subset=[\"subreddit\",\"subreddit_id\",\"body\",\"created_utc\",\"ups\",\"parent_id\",\"link_id\"])"
   ]
  },
  {
   "cell_type": "code",
   "execution_count": 11,
   "metadata": {},
   "outputs": [],
   "source": [
    "df2 = df2.withColumn(\"ups\", df2[\"ups\"].cast(t.IntegerType()))"
   ]
  },
  {
   "cell_type": "code",
   "execution_count": 12,
   "metadata": {},
   "outputs": [],
   "source": [
    "\"\"\"\n",
    "Remove comments belonging to moderators\n",
    "\"\"\"\n",
    "df2 = df2.filter((df2.distinguished != \"moderator\")|(df2.body!=\"[deleted]\"))"
   ]
  },
  {
   "cell_type": "code",
   "execution_count": 13,
   "metadata": {},
   "outputs": [],
   "source": [
    "\"\"\"\n",
    "Use CleantTextDf to clean body column\n",
    "\"\"\"\n",
    "df2 = df2.withColumn(\"clean_body\",cleanTextDF(f.col(\"body\")))"
   ]
  },
  {
   "cell_type": "code",
   "execution_count": 14,
   "metadata": {},
   "outputs": [],
   "source": [
    "df2 = df2.na.drop(subset=[\"clean_body\"])"
   ]
  },
  {
   "cell_type": "code",
   "execution_count": 15,
   "metadata": {},
   "outputs": [],
   "source": [
    "df2 = df2.drop(\"name\",\"author_flair_css_class\",\"author_flair_text\",\"score_hidden\",\"id\",\"distinguished\",\"body\",\"removal_reason\",\"downs\",\"archived\",\"gilded\",\"retrieved_on\",\"edited\",\"controversiality\",\"author\",\"score\")"
   ]
  },
  {
   "cell_type": "code",
   "execution_count": 16,
   "metadata": {},
   "outputs": [],
   "source": [
    "df2 = df2.where(f.length(f.col(\"parent_id\")) <= 12)"
   ]
  },
  {
   "cell_type": "code",
   "execution_count": 17,
   "metadata": {},
   "outputs": [],
   "source": [
    "# df2.show(truncate=False)"
   ]
  },
  {
   "cell_type": "code",
   "execution_count": 18,
   "metadata": {},
   "outputs": [
    {
     "data": {
      "text/plain": [
       "['created_utc',\n",
       " 'ups',\n",
       " 'subreddit_id',\n",
       " 'link_id',\n",
       " 'subreddit',\n",
       " 'parent_id',\n",
       " 'clean_body']"
      ]
     },
     "execution_count": 18,
     "metadata": {},
     "output_type": "execute_result"
    }
   ],
   "source": [
    "df2.columns"
   ]
  },
  {
   "cell_type": "code",
   "execution_count": 19,
   "metadata": {},
   "outputs": [
    {
     "name": "stderr",
     "output_type": "stream",
     "text": [
      "                                                                                \r"
     ]
    }
   ],
   "source": [
    "df2.write.option(\"header\",\"true\").csv(\"hdfs://namenode:9000/cleaned_data.csv\")"
   ]
  },
  {
   "cell_type": "code",
   "execution_count": 20,
   "metadata": {
    "scrolled": false
   },
   "outputs": [],
   "source": [
    "# !python3 /home/ubuntu/mapred.py -r spark hdfs://namenode:9000/cleaned_data.csv >english"
   ]
  }
 ],
 "metadata": {
  "kernelspec": {
   "display_name": "Python 3 (ipykernel)",
   "language": "python",
   "name": "python3"
  },
  "language_info": {
   "codemirror_mode": {
    "name": "ipython",
    "version": 3
   },
   "file_extension": ".py",
   "mimetype": "text/x-python",
   "name": "python",
   "nbconvert_exporter": "python",
   "pygments_lexer": "ipython3",
   "version": "3.8.10"
  }
 },
 "nbformat": 4,
 "nbformat_minor": 2
}
